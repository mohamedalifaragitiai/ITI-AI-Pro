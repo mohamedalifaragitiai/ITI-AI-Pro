{
  "nbformat": 4,
  "nbformat_minor": 5,
  "metadata": {
    "kernelspec": {
      "display_name": "Python 3",
      "language": "python",
      "name": "python3"
    },
    "language_info": {
      "codemirror_mode": {
        "name": "ipython",
        "version": 3
      },
      "file_extension": ".py",
      "mimetype": "text/x-python",
      "name": "python",
      "nbconvert_exporter": "python",
      "pygments_lexer": "ipython3",
      "version": "3.8.5"
    },
    "colab": {
      "name": "Mohamed Ali Farag .ipynb",
      "provenance": [],
      "collapsed_sections": []
    }
  },
  "cells": [
    {
      "cell_type": "markdown",
      "metadata": {
        "id": "__UN0QiEc4mc"
      },
      "source": [
        "### **`Probability`**"
      ],
      "id": "__UN0QiEc4mc"
    },
    {
      "cell_type": "markdown",
      "metadata": {
        "id": "9528ffef"
      },
      "source": [
        "# # 1. Your data table rows represent 1000 different clients picked at random and are independent.\n",
        "# # 2. Each data sample (i.e. table row) has some attributes with random values (continuous and discrete) namely:\n",
        "M = Marital status\n",
        "\n",
        "ND = No. of dependents\n",
        "\n",
        "AI = Client’s annual income\n",
        "\n",
        "R = Risk associated to No-cashback\n",
        "\n",
        "HA = Has previous approved loan\n",
        "\n",
        "AA = Amount of previously approved loan\n",
        "\n",
        "TA = Time until loan is approved\n",
        "\n",
        "YA = Year of last approved loan"
      ],
      "id": "9528ffef"
    },
    {
      "cell_type": "markdown",
      "metadata": {
        "id": "155041a0"
      },
      "source": [
        "# import libararies"
      ],
      "id": "155041a0"
    },
    {
      "cell_type": "code",
      "metadata": {
        "id": "ab6c6183"
      },
      "source": [
        "#import libararies\n",
        "import numpy as np\n",
        "from scipy.stats import *"
      ],
      "id": "ab6c6183",
      "execution_count": null,
      "outputs": []
    },
    {
      "cell_type": "markdown",
      "metadata": {
        "id": "c8ca8bd8"
      },
      "source": [
        "# 3. The marital status (M) "
      ],
      "id": "c8ca8bd8"
    },
    {
      "cell_type": "code",
      "metadata": {
        "id": "d3908001"
      },
      "source": [
        "M = binom.rvs(n=1, p=0.6, size=1000)"
      ],
      "id": "d3908001",
      "execution_count": null,
      "outputs": []
    },
    {
      "cell_type": "markdown",
      "metadata": {
        "id": "dfdf3f44"
      },
      "source": [
        "# 4. The No. of dependents (ND)"
      ],
      "id": "dfdf3f44"
    },
    {
      "cell_type": "code",
      "metadata": {
        "id": "5123a959"
      },
      "source": [
        "ND = poisson.rvs(mu=2,size=1000)"
      ],
      "id": "5123a959",
      "execution_count": null,
      "outputs": []
    },
    {
      "cell_type": "markdown",
      "metadata": {
        "id": "7643f3c1"
      },
      "source": [
        "# 5. The client’s annual income in order of 1k (AI)"
      ],
      "id": "7643f3c1"
    },
    {
      "cell_type": "code",
      "metadata": {
        "id": "77773994"
      },
      "source": [
        "AI = norm.rvs(loc=80, scale=20, size=1000)"
      ],
      "id": "77773994",
      "execution_count": null,
      "outputs": []
    },
    {
      "cell_type": "markdown",
      "metadata": {
        "id": "14db28fe"
      },
      "source": [
        "# 6. The risk associated to No-cashback (R)"
      ],
      "id": "14db28fe"
    },
    {
      "cell_type": "code",
      "metadata": {
        "id": "06cb1748"
      },
      "source": [
        "R = 12*(ND+1)/AI"
      ],
      "id": "06cb1748",
      "execution_count": null,
      "outputs": []
    },
    {
      "cell_type": "markdown",
      "metadata": {
        "id": "5149fc2b"
      },
      "source": [
        "# 7. Has a previous approved loan (HA)"
      ],
      "id": "5149fc2b"
    },
    {
      "cell_type": "code",
      "metadata": {
        "id": "e7aae5b0"
      },
      "source": [
        "HA = binom.rvs(n=1, p=0.3, size=1000)"
      ],
      "id": "e7aae5b0",
      "execution_count": null,
      "outputs": []
    },
    {
      "cell_type": "markdown",
      "metadata": {
        "id": "15d0a830"
      },
      "source": [
        "# 8. The amount of previously approved loan (AA)"
      ],
      "id": "15d0a830"
    },
    {
      "cell_type": "code",
      "metadata": {
        "id": "3ebc6b06"
      },
      "source": [
        "N = norm.rvs(loc=100, scale=10, size=1000)\n",
        "AA = HA*(0.1*AI+R*N)"
      ],
      "id": "3ebc6b06",
      "execution_count": null,
      "outputs": []
    },
    {
      "cell_type": "markdown",
      "metadata": {
        "id": "1440dd48"
      },
      "source": [
        "# 9. The time until loan is approved(TA)"
      ],
      "id": "1440dd48"
    },
    {
      "cell_type": "code",
      "metadata": {
        "id": "a643c3a6"
      },
      "source": [
        "expon = expon.rvs(scale=2, size=1000)\n",
        "TA = HA*expon"
      ],
      "id": "a643c3a6",
      "execution_count": null,
      "outputs": []
    },
    {
      "cell_type": "markdown",
      "metadata": {
        "id": "499c7afd"
      },
      "source": [
        "# 10. The year of last approved loan (YA)"
      ],
      "id": "499c7afd"
    },
    {
      "cell_type": "code",
      "metadata": {
        "id": "e89054da"
      },
      "source": [
        "U = uniform.rvs(loc=2010,scale=10,size=1000)\n",
        "YA = HA*U"
      ],
      "id": "e89054da",
      "execution_count": null,
      "outputs": []
    },
    {
      "cell_type": "markdown",
      "metadata": {
        "id": "edf4e891"
      },
      "source": [
        "# a. Probability to get a loan application by a single client with 2 parent dependents"
      ],
      "id": "edf4e891"
    },
    {
      "cell_type": "code",
      "metadata": {
        "id": "a834c4ee",
        "outputId": "e4e5be54-1115-458b-f265-cc2904cafb6a"
      },
      "source": [
        "client2parent = 0;\n",
        "#for loop to count no. of clients is single and have 2 parent dependents\n",
        "for i in range(1000):\n",
        "    if M[i] == 0 and ND[i] == 2:\n",
        "        client2parent += 1 \n",
        "print(client2parent/1000)"
      ],
      "id": "a834c4ee",
      "execution_count": null,
      "outputs": [
        {
          "name": "stdout",
          "output_type": "stream",
          "text": [
            "0.108\n"
          ]
        }
      ]
    },
    {
      "cell_type": "markdown",
      "metadata": {
        "id": "bd15e6d5"
      },
      "source": [
        "# b. Probability that a loan application will take more than 5 months to get approved"
      ],
      "id": "bd15e6d5"
    },
    {
      "cell_type": "code",
      "metadata": {
        "id": "c8dadfba",
        "outputId": "12441cb2-6b6c-48a0-a901-99ef63937b28"
      },
      "source": [
        "#get list of loan that will take 5 months to get approved \n",
        "TA5months = TA[TA > 5]\n",
        "#Probability that a loan application will take more than 5 months to get approved and has previous approved loan.\n",
        "print(len(TA5months)/len(HA[HA == 1]))"
      ],
      "id": "c8dadfba",
      "execution_count": null,
      "outputs": [
        {
          "name": "stdout",
          "output_type": "stream",
          "text": [
            "0.07894736842105263\n"
          ]
        }
      ]
    },
    {
      "cell_type": "markdown",
      "metadata": {
        "id": "bdda2393"
      },
      "source": [
        "# c. Probability that a loan less than 100k will be approved to a client given that he has been cashed a previous loan?"
      ],
      "id": "bdda2393"
    },
    {
      "cell_type": "code",
      "metadata": {
        "id": "f02de6af",
        "outputId": "72d1465a-c11c-4fca-c45b-37823b2e2017"
      },
      "source": [
        "#HAAndAA probability of  a loan less than 100k will be approved and he has been cashed a previous loan.\n",
        "probOfHAAndAA = np.count_nonzero(AA < 100) & np.count_nonzero(HA)\n",
        "#calculate conditional probability\n",
        "print( probOfHAAndAA / np.count_nonzero(HA))"
      ],
      "id": "f02de6af",
      "execution_count": null,
      "outputs": [
        {
          "name": "stdout",
          "output_type": "stream",
          "text": [
            "0.8947368421052632\n"
          ]
        }
      ]
    },
    {
      "cell_type": "markdown",
      "metadata": {
        "id": "6e762172"
      },
      "source": [
        "# d. Describe the relationship between the no. of dependents (ND) and the risk factor (R)"
      ],
      "id": "6e762172"
    },
    {
      "cell_type": "code",
      "metadata": {
        "id": "0f2fd606",
        "outputId": "2f4646db-000e-43b2-bfbb-78559ce721bc"
      },
      "source": [
        "covOfNDAndR = np.cov(ND,R)\n",
        "corrOfNDAndR = np.corrcoef(ND,R)\n",
        "print(covOfNDAndR)\n",
        "print(corrOfNDAndR)\n",
        "#Comment \n",
        "#Relation between ND and R is proportional linear because the sign of Correlation between var's (+) and strength of relation is 0.62563.\n",
        "#correlation of ND and R = correlation of R and ND."
      ],
      "id": "0f2fd606",
      "execution_count": null,
      "outputs": [
        {
          "name": "stdout",
          "output_type": "stream",
          "text": [
            "[[1.8793033  0.31174422]\n",
            " [0.31174422 0.08507478]]\n",
            "[[1.         0.77964978]\n",
            " [0.77964978 1.        ]]\n"
          ]
        }
      ]
    },
    {
      "cell_type": "markdown",
      "metadata": {
        "id": "13b06aa9"
      },
      "source": [
        "# e. Describe the relationship between the annual income (AI) and the risk factor (R)"
      ],
      "id": "13b06aa9"
    },
    {
      "cell_type": "code",
      "metadata": {
        "id": "4a6de1d3",
        "outputId": "b0b97d1d-318a-48ae-ec93-2273b668b717"
      },
      "source": [
        "covOfAIAndR = np.cov(AI,R)\n",
        "corrOfAIAndR = np.corrcoef(AI,R)\n",
        "print(covOfAIAndR)\n",
        "print(corrOfAIAndR)\n",
        "#Comment \n",
        "#Relation between AI and R is inversely linear because the sign of Correlation between to var's is (-) and strength of relation is 0.45174745.\n",
        "#correlation of AI and R = correlation of R and AI."
      ],
      "id": "4a6de1d3",
      "execution_count": null,
      "outputs": [
        {
          "name": "stdout",
          "output_type": "stream",
          "text": [
            "[[ 4.02959987e+02 -3.12562676e+00]\n",
            " [-3.12562676e+00  8.50747788e-02]]\n",
            "[[ 1.        -0.5338334]\n",
            " [-0.5338334  1.       ]]\n"
          ]
        }
      ]
    }
  ]
}